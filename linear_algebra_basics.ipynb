{
 "cells": [
  {
   "cell_type": "markdown",
   "metadata": {},
   "source": [
    "##### This notebook demonstrate a simple usage of Linear Algebra \n",
    "##### Only for personal pet project"
   ]
  },
  {
   "cell_type": "markdown",
   "metadata": {},
   "source": [
    "$ \\mathbf{VECTOR \\ NORMS}$ <\\br>\n",
    "\n",
    "norm ($\\mathbf{ | \\ x \\ |_p )  = \\sum_i | x_i | ^p )^ \\frac{1}{p}}$\n",
    "\n",
    "v= [1, 2,3]\n",
    "\n",
    "$\\mathbf{ L^1} -norm = |x|_1 = |1|+|2|+|3|=6 $\n",
    "\n",
    "$\\mathbf{ L^2} -norm = |x|_1 = \\sqrt{|1|^2+|2|^2+|3|^2}= \\sqrt{14} $\n"
   ]
  }
 ],
 "metadata": {
  "kernelspec": {
   "display_name": "Python 3",
   "language": "python",
   "name": "python3"
  },
  "language_info": {
   "codemirror_mode": {
    "name": "ipython",
    "version": 3
   },
   "file_extension": ".py",
   "mimetype": "text/x-python",
   "name": "python",
   "nbconvert_exporter": "python",
   "pygments_lexer": "ipython3",
   "version": "3.6.9"
  }
 },
 "nbformat": 4,
 "nbformat_minor": 4
}
