{
 "cells": [
  {
   "cell_type": "markdown",
   "metadata": {},
   "source": [
    "#### Following is based on Ben Lambert's Chapter 5: Priors p. 95 and Chapter 6: Devils is in the Denominator"
   ]
  },
  {
   "cell_type": "markdown",
   "metadata": {},
   "source": [
    "One of the confusing parts of studying Bayes Theorem is how to understand the rule itself and how to calculate the **posterior**. \n",
    "\n",
    "$Posterior=\\frac{Prior \\; x  \\; Likelihood}{p  \\ (data)}$\n",
    "\n",
    "ref : https://arbital.com/p/bayes_rule/?l=1zq"
   ]
  },
  {
   "cell_type": "code",
   "execution_count": 1,
   "metadata": {},
   "outputs": [],
   "source": [
    "import emoji\n",
    "import pandas as pd\n",
    "import numpy as np"
   ]
  },
  {
   "cell_type": "markdown",
   "metadata": {},
   "source": [
    "In the following scenario we have $100$ test cases of which $80$ are thumps up and  $20$ are thumps down"
   ]
  },
  {
   "cell_type": "code",
   "execution_count": 2,
   "metadata": {},
   "outputs": [
    {
     "name": "stdout",
     "output_type": "stream",
     "text": [
      "Shape (10, 10)\n"
     ]
    },
    {
     "data": {
      "text/html": [
       "<div>\n",
       "<style scoped>\n",
       "    .dataframe tbody tr th:only-of-type {\n",
       "        vertical-align: middle;\n",
       "    }\n",
       "\n",
       "    .dataframe tbody tr th {\n",
       "        vertical-align: top;\n",
       "    }\n",
       "\n",
       "    .dataframe thead th {\n",
       "        text-align: right;\n",
       "    }\n",
       "</style>\n",
       "<table border=\"1\" class=\"dataframe\">\n",
       "  <thead>\n",
       "    <tr style=\"text-align: right;\">\n",
       "      <th></th>\n",
       "      <th>1</th>\n",
       "      <th>2</th>\n",
       "      <th>3</th>\n",
       "      <th>4</th>\n",
       "      <th>5</th>\n",
       "      <th>6</th>\n",
       "      <th>7</th>\n",
       "      <th>8</th>\n",
       "      <th>9</th>\n",
       "      <th>10</th>\n",
       "    </tr>\n",
       "  </thead>\n",
       "  <tbody>\n",
       "    <tr>\n",
       "      <th>0</th>\n",
       "      <td>👍</td>\n",
       "      <td>👍</td>\n",
       "      <td>👍</td>\n",
       "      <td>👍</td>\n",
       "      <td>👍</td>\n",
       "      <td>👍</td>\n",
       "      <td>👍</td>\n",
       "      <td>👍</td>\n",
       "      <td>👎</td>\n",
       "      <td>👎</td>\n",
       "    </tr>\n",
       "    <tr>\n",
       "      <th>1</th>\n",
       "      <td>👍</td>\n",
       "      <td>👍</td>\n",
       "      <td>👍</td>\n",
       "      <td>👍</td>\n",
       "      <td>👍</td>\n",
       "      <td>👍</td>\n",
       "      <td>👍</td>\n",
       "      <td>👍</td>\n",
       "      <td>👎</td>\n",
       "      <td>👎</td>\n",
       "    </tr>\n",
       "    <tr>\n",
       "      <th>2</th>\n",
       "      <td>👍</td>\n",
       "      <td>👍</td>\n",
       "      <td>👍</td>\n",
       "      <td>👍</td>\n",
       "      <td>👍</td>\n",
       "      <td>👍</td>\n",
       "      <td>👍</td>\n",
       "      <td>👍</td>\n",
       "      <td>👎</td>\n",
       "      <td>👎</td>\n",
       "    </tr>\n",
       "    <tr>\n",
       "      <th>3</th>\n",
       "      <td>👍</td>\n",
       "      <td>👍</td>\n",
       "      <td>👍</td>\n",
       "      <td>👍</td>\n",
       "      <td>👍</td>\n",
       "      <td>👍</td>\n",
       "      <td>👍</td>\n",
       "      <td>👍</td>\n",
       "      <td>👎</td>\n",
       "      <td>👎</td>\n",
       "    </tr>\n",
       "    <tr>\n",
       "      <th>4</th>\n",
       "      <td>👍</td>\n",
       "      <td>👍</td>\n",
       "      <td>👍</td>\n",
       "      <td>👍</td>\n",
       "      <td>👍</td>\n",
       "      <td>👍</td>\n",
       "      <td>👍</td>\n",
       "      <td>👍</td>\n",
       "      <td>👎</td>\n",
       "      <td>👎</td>\n",
       "    </tr>\n",
       "    <tr>\n",
       "      <th>5</th>\n",
       "      <td>👍</td>\n",
       "      <td>👍</td>\n",
       "      <td>👍</td>\n",
       "      <td>👍</td>\n",
       "      <td>👍</td>\n",
       "      <td>👍</td>\n",
       "      <td>👍</td>\n",
       "      <td>👍</td>\n",
       "      <td>👎</td>\n",
       "      <td>👎</td>\n",
       "    </tr>\n",
       "    <tr>\n",
       "      <th>6</th>\n",
       "      <td>👍</td>\n",
       "      <td>👍</td>\n",
       "      <td>👍</td>\n",
       "      <td>👍</td>\n",
       "      <td>👍</td>\n",
       "      <td>👍</td>\n",
       "      <td>👍</td>\n",
       "      <td>👍</td>\n",
       "      <td>👎</td>\n",
       "      <td>👎</td>\n",
       "    </tr>\n",
       "    <tr>\n",
       "      <th>7</th>\n",
       "      <td>👍</td>\n",
       "      <td>👍</td>\n",
       "      <td>👍</td>\n",
       "      <td>👍</td>\n",
       "      <td>👍</td>\n",
       "      <td>👍</td>\n",
       "      <td>👍</td>\n",
       "      <td>👍</td>\n",
       "      <td>👎</td>\n",
       "      <td>👎</td>\n",
       "    </tr>\n",
       "    <tr>\n",
       "      <th>8</th>\n",
       "      <td>👍</td>\n",
       "      <td>👍</td>\n",
       "      <td>👍</td>\n",
       "      <td>👍</td>\n",
       "      <td>👍</td>\n",
       "      <td>👍</td>\n",
       "      <td>👍</td>\n",
       "      <td>👍</td>\n",
       "      <td>👎</td>\n",
       "      <td>👎</td>\n",
       "    </tr>\n",
       "    <tr>\n",
       "      <th>9</th>\n",
       "      <td>👍</td>\n",
       "      <td>👍</td>\n",
       "      <td>👍</td>\n",
       "      <td>👍</td>\n",
       "      <td>👍</td>\n",
       "      <td>👍</td>\n",
       "      <td>👍</td>\n",
       "      <td>👍</td>\n",
       "      <td>👎</td>\n",
       "      <td>👎</td>\n",
       "    </tr>\n",
       "  </tbody>\n",
       "</table>\n",
       "</div>"
      ],
      "text/plain": [
       "   1  2  3  4  5  6  7  8  9 10\n",
       "0  👍  👍  👍  👍  👍  👍  👍  👍  👎  👎\n",
       "1  👍  👍  👍  👍  👍  👍  👍  👍  👎  👎\n",
       "2  👍  👍  👍  👍  👍  👍  👍  👍  👎  👎\n",
       "3  👍  👍  👍  👍  👍  👍  👍  👍  👎  👎\n",
       "4  👍  👍  👍  👍  👍  👍  👍  👍  👎  👎\n",
       "5  👍  👍  👍  👍  👍  👍  👍  👍  👎  👎\n",
       "6  👍  👍  👍  👍  👍  👍  👍  👍  👎  👎\n",
       "7  👍  👍  👍  👍  👍  👍  👍  👍  👎  👎\n",
       "8  👍  👍  👍  👍  👍  👍  👍  👍  👎  👎\n",
       "9  👍  👍  👍  👍  👍  👍  👍  👍  👎  👎"
      ]
     },
     "execution_count": 2,
     "metadata": {},
     "output_type": "execute_result"
    }
   ],
   "source": [
    "tu= pd.DataFrame(np.reshape([(emoji.emojize(':thumbs_up:')) for i in range(0, 80)], (10, 8)), columns=[i for i in range(1, 9)])\n",
    "td=pd.DataFrame(np.reshape([(emoji.emojize(':thumbs_down:')) for i in range(0, 20)], (10, 2)), columns=['9', '10'])\n",
    "df=pd.concat([tu, td], axis=1)\n",
    "print('Shape', (df.shape))\n",
    "df"
   ]
  },
  {
   "cell_type": "markdown",
   "metadata": {},
   "source": [
    "Our goal is to update our existing beliefs based on the previous understanding in light of the new evidence\n",
    "\n",
    "| Tables        | Percent |\n",
    "| :--|:---|\n",
    "|Thumbs up       | 80      | \n",
    "|Thumbs down     | 20      | "
   ]
  },
  {
   "cell_type": "markdown",
   "metadata": {},
   "source": [
    "Among those with $Thumbs \\ down$, however during testing it was found that $90 \\% \\ were \\ Thumbs \\ down$. </br>\n",
    "\n",
    "While this test is not perfect, it was $30 \\%$ were actually $Thumbs \\ up$ however were seen as pointing left. </br>\n",
    "\n",
    "<font color=red>If we carry out another test for the new arrival, what is the probability that it was $Thumbs \\ down$ </font>\n",
    "\n",
    "<font color=pink>Reformulating: </font>"
   ]
  },
  {
   "cell_type": "markdown",
   "metadata": {},
   "source": [
    "| Tables        | Original Percent | Updated belief | \n",
    "| :--|:---| :---|\n",
    "|Thumbs up       | 80      | 24 with positive results (30% of 80) are thumbs up which thought to be pointing left or down)|\n",
    "|Thumbs down     | 20      | 18 with postive results |"
   ]
  },
  {
   "cell_type": "code",
   "execution_count": 6,
   "metadata": {},
   "outputs": [
    {
     "data": {
      "text/plain": [
       "':ok_hand:'"
      ]
     },
     "execution_count": 6,
     "metadata": {},
     "output_type": "execute_result"
    }
   ],
   "source": []
  }
 ],
 "metadata": {
  "kernelspec": {
   "display_name": "Python 3",
   "language": "python",
   "name": "python3"
  },
  "language_info": {
   "codemirror_mode": {
    "name": "ipython",
    "version": 3
   },
   "file_extension": ".py",
   "mimetype": "text/x-python",
   "name": "python",
   "nbconvert_exporter": "python",
   "pygments_lexer": "ipython3",
   "version": "3.7.4"
  }
 },
 "nbformat": 4,
 "nbformat_minor": 4
}
