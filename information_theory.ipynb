{
 "cells": [
  {
   "cell_type": "markdown",
   "metadata": {},
   "source": [
    "### Mutual Information, Information Gain, Entropy, Gain Ratio, etc"
   ]
  },
  {
   "cell_type": "markdown",
   "metadata": {},
   "source": [
    "Information can: \n",
    "\n",
    "    - High Frequency (high probability, high density)\n",
    "    - Low Frequency (low probability, rare) "
   ]
  },
  {
   "cell_type": "markdown",
   "metadata": {},
   "source": [
    "If $p(x)$ is the probability of occurrence of an event $(x)$, then \n",
    "\n",
    "$information (x) = -log_2(p(x))$\n",
    "\n",
    "$log_2$ means taht units of information measure is in bits (binary digits)\n",
    "\n",
    "Note, $log_2 = \\frac{ln(x)}{ln(2)}$; where $ln$ is natural log\n",
    "\n",
    "$-ve$ indicates the results results is either $+ve$ or $0$. If $p(x)= 1.0$  \n",
    "\n"
   ]
  }
 ],
 "metadata": {
  "kernelspec": {
   "display_name": "Python 3.7.4 64-bit",
   "language": "python",
   "name": "python37464bit33980f30a4bf441b8048388b70e84ccc"
  },
  "language_info": {
   "codemirror_mode": {
    "name": "ipython",
    "version": 3
   },
   "file_extension": ".py",
   "mimetype": "text/x-python",
   "name": "python",
   "nbconvert_exporter": "python",
   "pygments_lexer": "ipython3",
   "version": "3.7.4"
  }
 },
 "nbformat": 4,
 "nbformat_minor": 4
}
