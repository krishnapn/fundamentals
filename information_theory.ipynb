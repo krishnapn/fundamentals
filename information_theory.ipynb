{
 "cells": [
  {
   "cell_type": "markdown",
   "metadata": {},
   "source": [
    "### Mutual Information, Information Gain, Entropy, Gain Ratio, etc"
   ]
  },
  {
   "cell_type": "markdown",
   "metadata": {},
   "source": [
    "Information can: \n",
    "\n",
    "    - High Frequency (high probability, high density)\n",
    "    - Low Frequency (low probability, rare) "
   ]
  },
  {
   "cell_type": "markdown",
   "metadata": {},
   "source": [
    "If $p(x)$ is the probability of occurrence of an event $(x)$, then \n",
    "\n",
    "$information (x) = -log_2(p(x))$\n",
    "\n",
    "$log_2$ means taht units of information measure is in bits (binary digits)\n",
    "\n",
    "Note, $log_2 = \\frac{ln(x)}{ln(2)}$; where $ln$ is natural log\n",
    "\n",
    "$-ve$ indicates the results results is either $+ve$ or $0$. If $p(x)= 1.0$ "
   ]
  },
  {
   "cell_type": "code",
   "execution_count": 6,
   "metadata": {},
   "outputs": [
    {
     "ename": "ModuleNotFoundError",
     "evalue": "No module named 'matplotlib'",
     "output_type": "error",
     "traceback": [
      "\u001b[1;31m---------------------------------------------------------------------------\u001b[0m",
      "\u001b[1;31mModuleNotFoundError\u001b[0m                       Traceback (most recent call last)",
      "\u001b[1;32m<ipython-input-6-0484cd13f94d>\u001b[0m in \u001b[0;36m<module>\u001b[1;34m\u001b[0m\n\u001b[1;32m----> 1\u001b[1;33m \u001b[1;32mimport\u001b[0m \u001b[0mmatplotlib\u001b[0m\u001b[1;33m\u001b[0m\u001b[1;33m\u001b[0m\u001b[0m\n\u001b[0m",
      "\u001b[1;31mModuleNotFoundError\u001b[0m: No module named 'matplotlib'"
     ]
    }
   ],
   "source": [
    "import matplotlib"
   ]
  },
  {
   "cell_type": "code",
   "execution_count": null,
   "metadata": {},
   "outputs": [],
   "source": [
    "import numpy as np\n",
    "from math import log2\n",
    "from matplotlib import pyplot\n",
    "# probabilities\n",
    "px=np.linspace(0.0, 1.0, num=10)\n",
    "info = [-log2(p) for p in px]\n",
    "px"
   ]
  }
 ],
 "metadata": {
  "kernelspec": {
   "display_name": "Python 3.7.4 64-bit",
   "language": "python",
   "name": "python37464bit33980f30a4bf441b8048388b70e84ccc"
  },
  "language_info": {
   "codemirror_mode": {
    "name": "ipython",
    "version": 3
   },
   "file_extension": ".py",
   "mimetype": "text/x-python",
   "name": "python",
   "nbconvert_exporter": "python",
   "pygments_lexer": "ipython3",
   "version": "3.7.4"
  }
 },
 "nbformat": 4,
 "nbformat_minor": 4
}
