{
 "cells": [
  {
   "cell_type": "markdown",
   "metadata": {},
   "source": [
    "###### This ipython notebook is designed to demonstrate the fundamentals of Machine Learning"
   ]
  },
  {
   "cell_type": "code",
   "execution_count": 2,
   "metadata": {},
   "outputs": [],
   "source": [
    "#### Few Resources are added"
   ]
  },
  {
   "cell_type": "code",
   "execution_count": 1,
   "metadata": {},
   "outputs": [],
   "source": [
    "##### Visualization: https://distill.pub/; https://datavizm20.classes.andrewheiss.com/\n",
    "##### https://colah.github.io/ \n",
    "##### Mathematics: https://github.com/kmario23/deep-learning-drizzle; https://deep-learning-drizzle.github.io/index.html#dldnn "
   ]
  },
  {
   "cell_type": "code",
   "execution_count": null,
   "metadata": {},
   "outputs": [],
   "source": []
  },
  {
   "cell_type": "markdown",
   "metadata": {},
   "source": [
    "##### import required python packages"
   ]
  },
  {
   "cell_type": "code",
   "execution_count": 4,
   "metadata": {},
   "outputs": [],
   "source": [
    "import pandas as pd\n",
    "import numpy as np"
   ]
  },
  {
   "cell_type": "markdown",
   "metadata": {},
   "source": [
    "# Fundamental Methods for Parameter Estimation"
   ]
  },
  {
   "cell_type": "markdown",
   "metadata": {},
   "source": [
    "#### Parameter Selection is one of the major areas of research, as a researcher we need to be equipped with following Terminologies and underlying mathematics as well as empirical says of analyzing\n",
    "\n",
    "##### - Non Probabilistic Methods:\n",
    "    - Empirical Risk Minization \n",
    "##### - Probabilistic Methods\n",
    "    - Method of Maximum Likelihood (MLE)\n",
    "    - Method of Maximum A Posteriori (MAP)"
   ]
  }
 ],
 "metadata": {
  "kernelspec": {
   "display_name": "Python 3.7.4 64-bit",
   "language": "python",
   "name": "python37464bit33980f30a4bf441b8048388b70e84ccc"
  },
  "language_info": {
   "codemirror_mode": {
    "name": "ipython",
    "version": 3
   },
   "file_extension": ".py",
   "mimetype": "text/x-python",
   "name": "python",
   "nbconvert_exporter": "python",
   "pygments_lexer": "ipython3",
   "version": "3.7.4"
  }
 },
 "nbformat": 4,
 "nbformat_minor": 4
}
